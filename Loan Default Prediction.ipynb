{
 "cells": [
  {
   "cell_type": "markdown",
   "metadata": {},
   "source": [
    "## Loan Default Prediction"
   ]
  },
  {
   "cell_type": "markdown",
   "metadata": {},
   "source": [
    "> ****Financial institutions, including banks, credit unions, and government lenders, provide loan services to individuals and businesses.\n",
    "A major concern for these institutions is loan defaults, where borrowers fail to repay their loans as agreed.\n",
    "To manage this risk, many institutions utilize machine learning algorithms to predict which borrowers are most likely to default.****\n",
    "\n",
    "> The Dataset:\n",
    "This specific dataset originates from Coursera's Loan Default Prediction Challenge.\n",
    "It offers an opportunity to practice and test machine learning skills on a real-world problem.\n",
    "The dataset comprises a significant amount of data, with 255,347 rows and 18 columns.\n",
    "Presumably, these columns contain information relevant to borrowers and their loan characteristics.\n",
    "\n",
    "> The Goal:\n",
    "The primary objective is to utilize the data to build a model that accurately predicts loan defaults.\n",
    "This would enable financial institutions to:\n",
    "Identify high-risk borrowers at an early stage.\n",
    "Implement targeted interventions, such as loan restructuring or financial counseling, to prevent defaults.\n",
    "Make more informed lending decisions, potentially reducing overall risk exposure."
   ]
  },
  {
   "cell_type": "code",
   "execution_count": 2,
   "metadata": {},
   "outputs": [],
   "source": [
    "# load the data \n",
    "import numpy as np\n",
    "import pandas as pd\n",
    "loan=pd.read_csv(\"Loan_default.csv\")"
   ]
  },
  {
   "cell_type": "code",
   "execution_count": 3,
   "metadata": {},
   "outputs": [
    {
     "data": {
      "text/html": [
       "<div>\n",
       "<style scoped>\n",
       "    .dataframe tbody tr th:only-of-type {\n",
       "        vertical-align: middle;\n",
       "    }\n",
       "\n",
       "    .dataframe tbody tr th {\n",
       "        vertical-align: top;\n",
       "    }\n",
       "\n",
       "    .dataframe thead th {\n",
       "        text-align: right;\n",
       "    }\n",
       "</style>\n",
       "<table border=\"1\" class=\"dataframe\">\n",
       "  <thead>\n",
       "    <tr style=\"text-align: right;\">\n",
       "      <th></th>\n",
       "      <th>LoanID</th>\n",
       "      <th>Age</th>\n",
       "      <th>Income</th>\n",
       "      <th>LoanAmount</th>\n",
       "      <th>CreditScore</th>\n",
       "      <th>MonthsEmployed</th>\n",
       "      <th>NumCreditLines</th>\n",
       "      <th>InterestRate</th>\n",
       "      <th>LoanTerm</th>\n",
       "      <th>DTIRatio</th>\n",
       "      <th>Education</th>\n",
       "      <th>EmploymentType</th>\n",
       "      <th>MaritalStatus</th>\n",
       "      <th>HasMortgage</th>\n",
       "      <th>HasDependents</th>\n",
       "      <th>LoanPurpose</th>\n",
       "      <th>HasCoSigner</th>\n",
       "      <th>Default</th>\n",
       "    </tr>\n",
       "  </thead>\n",
       "  <tbody>\n",
       "    <tr>\n",
       "      <th>0</th>\n",
       "      <td>I38PQUQS96</td>\n",
       "      <td>56</td>\n",
       "      <td>85994</td>\n",
       "      <td>50587</td>\n",
       "      <td>520</td>\n",
       "      <td>80</td>\n",
       "      <td>4</td>\n",
       "      <td>15.23</td>\n",
       "      <td>36</td>\n",
       "      <td>0.44</td>\n",
       "      <td>Bachelor's</td>\n",
       "      <td>Full-time</td>\n",
       "      <td>Divorced</td>\n",
       "      <td>Yes</td>\n",
       "      <td>Yes</td>\n",
       "      <td>Other</td>\n",
       "      <td>Yes</td>\n",
       "      <td>0</td>\n",
       "    </tr>\n",
       "    <tr>\n",
       "      <th>1</th>\n",
       "      <td>HPSK72WA7R</td>\n",
       "      <td>69</td>\n",
       "      <td>50432</td>\n",
       "      <td>124440</td>\n",
       "      <td>458</td>\n",
       "      <td>15</td>\n",
       "      <td>1</td>\n",
       "      <td>4.81</td>\n",
       "      <td>60</td>\n",
       "      <td>0.68</td>\n",
       "      <td>Master's</td>\n",
       "      <td>Full-time</td>\n",
       "      <td>Married</td>\n",
       "      <td>No</td>\n",
       "      <td>No</td>\n",
       "      <td>Other</td>\n",
       "      <td>Yes</td>\n",
       "      <td>0</td>\n",
       "    </tr>\n",
       "    <tr>\n",
       "      <th>2</th>\n",
       "      <td>C1OZ6DPJ8Y</td>\n",
       "      <td>46</td>\n",
       "      <td>84208</td>\n",
       "      <td>129188</td>\n",
       "      <td>451</td>\n",
       "      <td>26</td>\n",
       "      <td>3</td>\n",
       "      <td>21.17</td>\n",
       "      <td>24</td>\n",
       "      <td>0.31</td>\n",
       "      <td>Master's</td>\n",
       "      <td>Unemployed</td>\n",
       "      <td>Divorced</td>\n",
       "      <td>Yes</td>\n",
       "      <td>Yes</td>\n",
       "      <td>Auto</td>\n",
       "      <td>No</td>\n",
       "      <td>1</td>\n",
       "    </tr>\n",
       "    <tr>\n",
       "      <th>3</th>\n",
       "      <td>V2KKSFM3UN</td>\n",
       "      <td>32</td>\n",
       "      <td>31713</td>\n",
       "      <td>44799</td>\n",
       "      <td>743</td>\n",
       "      <td>0</td>\n",
       "      <td>3</td>\n",
       "      <td>7.07</td>\n",
       "      <td>24</td>\n",
       "      <td>0.23</td>\n",
       "      <td>High School</td>\n",
       "      <td>Full-time</td>\n",
       "      <td>Married</td>\n",
       "      <td>No</td>\n",
       "      <td>No</td>\n",
       "      <td>Business</td>\n",
       "      <td>No</td>\n",
       "      <td>0</td>\n",
       "    </tr>\n",
       "    <tr>\n",
       "      <th>4</th>\n",
       "      <td>EY08JDHTZP</td>\n",
       "      <td>60</td>\n",
       "      <td>20437</td>\n",
       "      <td>9139</td>\n",
       "      <td>633</td>\n",
       "      <td>8</td>\n",
       "      <td>4</td>\n",
       "      <td>6.51</td>\n",
       "      <td>48</td>\n",
       "      <td>0.73</td>\n",
       "      <td>Bachelor's</td>\n",
       "      <td>Unemployed</td>\n",
       "      <td>Divorced</td>\n",
       "      <td>No</td>\n",
       "      <td>Yes</td>\n",
       "      <td>Auto</td>\n",
       "      <td>No</td>\n",
       "      <td>0</td>\n",
       "    </tr>\n",
       "  </tbody>\n",
       "</table>\n",
       "</div>"
      ],
      "text/plain": [
       "       LoanID  Age  Income  LoanAmount  CreditScore  MonthsEmployed  \\\n",
       "0  I38PQUQS96   56   85994       50587          520              80   \n",
       "1  HPSK72WA7R   69   50432      124440          458              15   \n",
       "2  C1OZ6DPJ8Y   46   84208      129188          451              26   \n",
       "3  V2KKSFM3UN   32   31713       44799          743               0   \n",
       "4  EY08JDHTZP   60   20437        9139          633               8   \n",
       "\n",
       "   NumCreditLines  InterestRate  LoanTerm  DTIRatio    Education  \\\n",
       "0               4         15.23        36      0.44   Bachelor's   \n",
       "1               1          4.81        60      0.68     Master's   \n",
       "2               3         21.17        24      0.31     Master's   \n",
       "3               3          7.07        24      0.23  High School   \n",
       "4               4          6.51        48      0.73   Bachelor's   \n",
       "\n",
       "  EmploymentType MaritalStatus HasMortgage HasDependents LoanPurpose  \\\n",
       "0      Full-time      Divorced         Yes           Yes       Other   \n",
       "1      Full-time       Married          No            No       Other   \n",
       "2     Unemployed      Divorced         Yes           Yes        Auto   \n",
       "3      Full-time       Married          No            No    Business   \n",
       "4     Unemployed      Divorced          No           Yes        Auto   \n",
       "\n",
       "  HasCoSigner  Default  \n",
       "0         Yes        0  \n",
       "1         Yes        0  \n",
       "2          No        1  \n",
       "3          No        0  \n",
       "4          No        0  "
      ]
     },
     "execution_count": 3,
     "metadata": {},
     "output_type": "execute_result"
    }
   ],
   "source": [
    "loan.head()"
   ]
  },
  {
   "cell_type": "code",
   "execution_count": 4,
   "metadata": {},
   "outputs": [
    {
     "name": "stdout",
     "output_type": "stream",
     "text": [
      "<class 'pandas.core.frame.DataFrame'>\n",
      "RangeIndex: 255347 entries, 0 to 255346\n",
      "Data columns (total 18 columns):\n",
      " #   Column          Non-Null Count   Dtype  \n",
      "---  ------          --------------   -----  \n",
      " 0   LoanID          255347 non-null  object \n",
      " 1   Age             255347 non-null  int64  \n",
      " 2   Income          255347 non-null  int64  \n",
      " 3   LoanAmount      255347 non-null  int64  \n",
      " 4   CreditScore     255347 non-null  int64  \n",
      " 5   MonthsEmployed  255347 non-null  int64  \n",
      " 6   NumCreditLines  255347 non-null  int64  \n",
      " 7   InterestRate    255347 non-null  float64\n",
      " 8   LoanTerm        255347 non-null  int64  \n",
      " 9   DTIRatio        255347 non-null  float64\n",
      " 10  Education       255347 non-null  object \n",
      " 11  EmploymentType  255347 non-null  object \n",
      " 12  MaritalStatus   255347 non-null  object \n",
      " 13  HasMortgage     255347 non-null  object \n",
      " 14  HasDependents   255347 non-null  object \n",
      " 15  LoanPurpose     255347 non-null  object \n",
      " 16  HasCoSigner     255347 non-null  object \n",
      " 17  Default         255347 non-null  int64  \n",
      "dtypes: float64(2), int64(8), object(8)\n",
      "memory usage: 35.1+ MB\n"
     ]
    }
   ],
   "source": [
    "#info\n",
    "loan.info()"
   ]
  },
  {
   "cell_type": "code",
   "execution_count": 5,
   "metadata": {},
   "outputs": [
    {
     "name": "stderr",
     "output_type": "stream",
     "text": [
      "c:\\Users\\sivap\\anaconda3\\lib\\site-packages\\scipy\\__init__.py:146: UserWarning: A NumPy version >=1.16.5 and <1.23.0 is required for this version of SciPy (detected version 1.25.0\n",
      "  warnings.warn(f\"A NumPy version >={np_minversion} and <{np_maxversion}\"\n"
     ]
    }
   ],
   "source": [
    "#label encoding\n",
    "from sklearn.preprocessing import LabelEncoder\n",
    "# Assuming df is your DataFrame\n",
    "categorical_columns = ['Education', 'EmploymentType', 'MaritalStatus', 'HasMortgage', 'HasDependents', 'LoanPurpose', 'HasCoSigner']\n",
    "\n",
    "# Initializing LabelEncoder\n",
    "label_encoder = LabelEncoder()\n",
    "\n",
    "# Encoding categorical columns\n",
    "for col in categorical_columns:\n",
    "    loan[col] = label_encoder.fit_transform(loan[col])"
   ]
  },
  {
   "cell_type": "code",
   "execution_count": 6,
   "metadata": {},
   "outputs": [
    {
     "name": "stderr",
     "output_type": "stream",
     "text": [
      "c:\\Users\\sivap\\anaconda3\\lib\\site-packages\\seaborn\\_decorators.py:36: FutureWarning: Pass the following variable as a keyword arg: x. From version 0.12, the only valid positional argument will be `data`, and passing other arguments without an explicit keyword will result in an error or misinterpretation.\n",
      "  warnings.warn(\n",
      "c:\\Users\\sivap\\anaconda3\\lib\\site-packages\\seaborn\\_decorators.py:36: FutureWarning: Pass the following variable as a keyword arg: x. From version 0.12, the only valid positional argument will be `data`, and passing other arguments without an explicit keyword will result in an error or misinterpretation.\n",
      "  warnings.warn(\n",
      "c:\\Users\\sivap\\anaconda3\\lib\\site-packages\\seaborn\\_decorators.py:36: FutureWarning: Pass the following variable as a keyword arg: x. From version 0.12, the only valid positional argument will be `data`, and passing other arguments without an explicit keyword will result in an error or misinterpretation.\n",
      "  warnings.warn(\n",
      "c:\\Users\\sivap\\anaconda3\\lib\\site-packages\\seaborn\\_decorators.py:36: FutureWarning: Pass the following variable as a keyword arg: x. From version 0.12, the only valid positional argument will be `data`, and passing other arguments without an explicit keyword will result in an error or misinterpretation.\n",
      "  warnings.warn(\n",
      "c:\\Users\\sivap\\anaconda3\\lib\\site-packages\\seaborn\\_decorators.py:36: FutureWarning: Pass the following variable as a keyword arg: x. From version 0.12, the only valid positional argument will be `data`, and passing other arguments without an explicit keyword will result in an error or misinterpretation.\n",
      "  warnings.warn(\n",
      "c:\\Users\\sivap\\anaconda3\\lib\\site-packages\\seaborn\\_decorators.py:36: FutureWarning: Pass the following variable as a keyword arg: x. From version 0.12, the only valid positional argument will be `data`, and passing other arguments without an explicit keyword will result in an error or misinterpretation.\n",
      "  warnings.warn(\n",
      "c:\\Users\\sivap\\anaconda3\\lib\\site-packages\\seaborn\\_decorators.py:36: FutureWarning: Pass the following variable as a keyword arg: x. From version 0.12, the only valid positional argument will be `data`, and passing other arguments without an explicit keyword will result in an error or misinterpretation.\n",
      "  warnings.warn(\n",
      "c:\\Users\\sivap\\anaconda3\\lib\\site-packages\\seaborn\\_decorators.py:36: FutureWarning: Pass the following variable as a keyword arg: x. From version 0.12, the only valid positional argument will be `data`, and passing other arguments without an explicit keyword will result in an error or misinterpretation.\n",
      "  warnings.warn(\n",
      "c:\\Users\\sivap\\anaconda3\\lib\\site-packages\\seaborn\\_decorators.py:36: FutureWarning: Pass the following variable as a keyword arg: x. From version 0.12, the only valid positional argument will be `data`, and passing other arguments without an explicit keyword will result in an error or misinterpretation.\n",
      "  warnings.warn(\n"
     ]
    },
    {
     "data": {
      "image/png": "[encoded data removed]",
      "text/plain": [
       "<Figure size 720x720 with 10 Axes>"
      ]
     },
     "metadata": {
      "needs_background": "light"
     },
     "output_type": "display_data"
    }
   ],
   "source": [
    "#EDA\n",
    "import seaborn as sns\n",
    "import matplotlib.pyplot as plt\n",
    "columns = loan.columns\n",
    "fig, axs = plt.subplots(5, 2, figsize=(10, 10))\n",
    "sns.boxplot(loan.iloc[:,1],ax=axs[0, 0],orient='h').set_title(columns[1])\n",
    "sns.boxplot(loan.iloc[:,2],ax=axs[0, 1],orient='h').set_title(columns[2])\n",
    "sns.boxplot(loan.iloc[:,3],ax=axs[1, 0],orient='h').set_title(columns[3])\n",
    "sns.boxplot(loan.iloc[:,4],ax=axs[1, 1],orient='h').set_title(columns[4])\n",
    "sns.boxplot(loan.iloc[:,5],ax=axs[2, 0],orient='h').set_title(columns[5])\n",
    "sns.boxplot(loan.iloc[:,6],ax=axs[2, 1],orient='h').set_title(columns[6])\n",
    "sns.boxplot(loan.iloc[:,7],ax=axs[3, 0],orient='h').set_title(columns[7])\n",
    "sns.boxplot(loan.iloc[:,8],ax=axs[3, 1],orient='h').set_title(columns[8])\n",
    "sns.boxplot(loan.iloc[:,9],ax=axs[4, 0],orient='h').set_title(columns[9])\n",
    "fig.tight_layout()"
   ]
  },
  {
   "cell_type": "code",
   "execution_count": 7,
   "metadata": {},
   "outputs": [
    {
     "data": {
      "text/html": [
       "<div>\n",
       "<style scoped>\n",
       "    .dataframe tbody tr th:only-of-type {\n",
       "        vertical-align: middle;\n",
       "    }\n",
       "\n",
       "    .dataframe tbody tr th {\n",
       "        vertical-align: top;\n",
       "    }\n",
       "\n",
       "    .dataframe thead tr th {\n",
       "        text-align: left;\n",
       "    }\n",
       "\n",
       "    .dataframe thead tr:last-of-type th {\n",
       "        text-align: right;\n",
       "    }\n",
       "</style>\n",
       "<table border=\"1\" class=\"dataframe\">\n",
       "  <thead>\n",
       "    <tr>\n",
       "      <th></th>\n",
       "      <th colspan=\"2\" halign=\"left\">InterestRate</th>\n",
       "      <th colspan=\"2\" halign=\"left\">LoanAmount</th>\n",
       "      <th colspan=\"2\" halign=\"left\">NumCreditLines</th>\n",
       "    </tr>\n",
       "    <tr>\n",
       "      <th></th>\n",
       "      <th>mean</th>\n",
       "      <th>std</th>\n",
       "      <th>mean</th>\n",
       "      <th>std</th>\n",
       "      <th>mean</th>\n",
       "      <th>std</th>\n",
       "    </tr>\n",
       "    <tr>\n",
       "      <th>Default</th>\n",
       "      <th></th>\n",
       "      <th></th>\n",
       "      <th></th>\n",
       "      <th></th>\n",
       "      <th></th>\n",
       "      <th></th>\n",
       "    </tr>\n",
       "  </thead>\n",
       "  <tbody>\n",
       "    <tr>\n",
       "      <th>0</th>\n",
       "      <td>13.18</td>\n",
       "      <td>6.61</td>\n",
       "      <td>125353.66</td>\n",
       "      <td>70708.10</td>\n",
       "      <td>2.49</td>\n",
       "      <td>1.12</td>\n",
       "    </tr>\n",
       "    <tr>\n",
       "      <th>1</th>\n",
       "      <td>15.90</td>\n",
       "      <td>6.32</td>\n",
       "      <td>144515.31</td>\n",
       "      <td>69547.82</td>\n",
       "      <td>2.59</td>\n",
       "      <td>1.12</td>\n",
       "    </tr>\n",
       "  </tbody>\n",
       "</table>\n",
       "</div>"
      ],
      "text/plain": [
       "        InterestRate       LoanAmount           NumCreditLines      \n",
       "                mean   std       mean       std           mean   std\n",
       "Default                                                             \n",
       "0              13.18  6.61  125353.66  70708.10           2.49  1.12\n",
       "1              15.90  6.32  144515.31  69547.82           2.59  1.12"
      ]
     },
     "execution_count": 7,
     "metadata": {},
     "output_type": "execute_result"
    }
   ],
   "source": [
    "# Check if our observations are correct\n",
    "np.round(loan.pivot_table(index='Default',values=['InterestRate','LoanAmount','NumCreditLines'],aggfunc=('mean','std')),2)"
   ]
  },
  {
   "cell_type": "code",
   "execution_count": 8,
   "metadata": {},
   "outputs": [
    {
     "data": {
      "text/html": [
       "<div>\n",
       "<style scoped>\n",
       "    .dataframe tbody tr th:only-of-type {\n",
       "        vertical-align: middle;\n",
       "    }\n",
       "\n",
       "    .dataframe tbody tr th {\n",
       "        vertical-align: top;\n",
       "    }\n",
       "\n",
       "    .dataframe thead tr th {\n",
       "        text-align: left;\n",
       "    }\n",
       "\n",
       "    .dataframe thead tr:last-of-type th {\n",
       "        text-align: right;\n",
       "    }\n",
       "</style>\n",
       "<table border=\"1\" class=\"dataframe\">\n",
       "  <thead>\n",
       "    <tr>\n",
       "      <th></th>\n",
       "      <th colspan=\"2\" halign=\"left\">Age</th>\n",
       "      <th colspan=\"2\" halign=\"left\">Income</th>\n",
       "      <th colspan=\"2\" halign=\"left\">MonthsEmployed</th>\n",
       "    </tr>\n",
       "    <tr>\n",
       "      <th></th>\n",
       "      <th>mean</th>\n",
       "      <th>std</th>\n",
       "      <th>mean</th>\n",
       "      <th>std</th>\n",
       "      <th>mean</th>\n",
       "      <th>std</th>\n",
       "    </tr>\n",
       "    <tr>\n",
       "      <th>Default</th>\n",
       "      <th></th>\n",
       "      <th></th>\n",
       "      <th></th>\n",
       "      <th></th>\n",
       "      <th></th>\n",
       "      <th></th>\n",
       "    </tr>\n",
       "  </thead>\n",
       "  <tbody>\n",
       "    <tr>\n",
       "      <th>0</th>\n",
       "      <td>44.41</td>\n",
       "      <td>14.89</td>\n",
       "      <td>83899.17</td>\n",
       "      <td>38498.8</td>\n",
       "      <td>60.76</td>\n",
       "      <td>34.56</td>\n",
       "    </tr>\n",
       "    <tr>\n",
       "      <th>1</th>\n",
       "      <td>36.56</td>\n",
       "      <td>13.90</td>\n",
       "      <td>71844.72</td>\n",
       "      <td>40785.1</td>\n",
       "      <td>50.24</td>\n",
       "      <td>33.88</td>\n",
       "    </tr>\n",
       "  </tbody>\n",
       "</table>\n",
       "</div>"
      ],
      "text/plain": [
       "           Age           Income          MonthsEmployed       \n",
       "          mean    std      mean      std           mean    std\n",
       "Default                                                       \n",
       "0        44.41  14.89  83899.17  38498.8          60.76  34.56\n",
       "1        36.56  13.90  71844.72  40785.1          50.24  33.88"
      ]
     },
     "execution_count": 8,
     "metadata": {},
     "output_type": "execute_result"
    }
   ],
   "source": [
    "# Check if our observations are correct\n",
    "np.round(loan.pivot_table(index='Default',values=['Age','Income','MonthsEmployed'],aggfunc=('mean','std')),2)"
   ]
  },
  {
   "cell_type": "code",
   "execution_count": 9,
   "metadata": {},
   "outputs": [
    {
     "data": {
      "text/html": [
       "<div>\n",
       "<style scoped>\n",
       "    .dataframe tbody tr th:only-of-type {\n",
       "        vertical-align: middle;\n",
       "    }\n",
       "\n",
       "    .dataframe tbody tr th {\n",
       "        vertical-align: top;\n",
       "    }\n",
       "\n",
       "    .dataframe thead th {\n",
       "        text-align: right;\n",
       "    }\n",
       "</style>\n",
       "<table border=\"1\" class=\"dataframe\">\n",
       "  <thead>\n",
       "    <tr style=\"text-align: right;\">\n",
       "      <th></th>\n",
       "      <th>LoanID</th>\n",
       "      <th>Age</th>\n",
       "      <th>Income</th>\n",
       "      <th>LoanAmount</th>\n",
       "      <th>CreditScore</th>\n",
       "      <th>MonthsEmployed</th>\n",
       "      <th>NumCreditLines</th>\n",
       "      <th>InterestRate</th>\n",
       "      <th>LoanTerm</th>\n",
       "      <th>DTIRatio</th>\n",
       "      <th>Education</th>\n",
       "      <th>EmploymentType</th>\n",
       "      <th>MaritalStatus</th>\n",
       "      <th>HasMortgage</th>\n",
       "      <th>HasDependents</th>\n",
       "      <th>LoanPurpose</th>\n",
       "      <th>HasCoSigner</th>\n",
       "      <th>Default</th>\n",
       "    </tr>\n",
       "  </thead>\n",
       "  <tbody>\n",
       "    <tr>\n",
       "      <th>0</th>\n",
       "      <td>False</td>\n",
       "      <td>False</td>\n",
       "      <td>False</td>\n",
       "      <td>False</td>\n",
       "      <td>False</td>\n",
       "      <td>False</td>\n",
       "      <td>False</td>\n",
       "      <td>False</td>\n",
       "      <td>False</td>\n",
       "      <td>False</td>\n",
       "      <td>False</td>\n",
       "      <td>False</td>\n",
       "      <td>False</td>\n",
       "      <td>False</td>\n",
       "      <td>False</td>\n",
       "      <td>False</td>\n",
       "      <td>False</td>\n",
       "      <td>False</td>\n",
       "    </tr>\n",
       "    <tr>\n",
       "      <th>1</th>\n",
       "      <td>False</td>\n",
       "      <td>False</td>\n",
       "      <td>False</td>\n",
       "      <td>False</td>\n",
       "      <td>False</td>\n",
       "      <td>False</td>\n",
       "      <td>False</td>\n",
       "      <td>False</td>\n",
       "      <td>False</td>\n",
       "      <td>False</td>\n",
       "      <td>False</td>\n",
       "      <td>False</td>\n",
       "      <td>False</td>\n",
       "      <td>False</td>\n",
       "      <td>False</td>\n",
       "      <td>False</td>\n",
       "      <td>False</td>\n",
       "      <td>False</td>\n",
       "    </tr>\n",
       "    <tr>\n",
       "      <th>2</th>\n",
       "      <td>False</td>\n",
       "      <td>False</td>\n",
       "      <td>False</td>\n",
       "      <td>False</td>\n",
       "      <td>False</td>\n",
       "      <td>False</td>\n",
       "      <td>False</td>\n",
       "      <td>False</td>\n",
       "      <td>False</td>\n",
       "      <td>False</td>\n",
       "      <td>False</td>\n",
       "      <td>False</td>\n",
       "      <td>False</td>\n",
       "      <td>False</td>\n",
       "      <td>False</td>\n",
       "      <td>False</td>\n",
       "      <td>False</td>\n",
       "      <td>False</td>\n",
       "    </tr>\n",
       "    <tr>\n",
       "      <th>3</th>\n",
       "      <td>False</td>\n",
       "      <td>False</td>\n",
       "      <td>False</td>\n",
       "      <td>False</td>\n",
       "      <td>False</td>\n",
       "      <td>False</td>\n",
       "      <td>False</td>\n",
       "      <td>False</td>\n",
       "      <td>False</td>\n",
       "      <td>False</td>\n",
       "      <td>False</td>\n",
       "      <td>False</td>\n",
       "      <td>False</td>\n",
       "      <td>False</td>\n",
       "      <td>False</td>\n",
       "      <td>False</td>\n",
       "      <td>False</td>\n",
       "      <td>False</td>\n",
       "    </tr>\n",
       "    <tr>\n",
       "      <th>4</th>\n",
       "      <td>False</td>\n",
       "      <td>False</td>\n",
       "      <td>False</td>\n",
       "      <td>False</td>\n",
       "      <td>False</td>\n",
       "      <td>False</td>\n",
       "      <td>False</td>\n",
       "      <td>False</td>\n",
       "      <td>False</td>\n",
       "      <td>False</td>\n",
       "      <td>False</td>\n",
       "      <td>False</td>\n",
       "      <td>False</td>\n",
       "      <td>False</td>\n",
       "      <td>False</td>\n",
       "      <td>False</td>\n",
       "      <td>False</td>\n",
       "      <td>False</td>\n",
       "    </tr>\n",
       "    <tr>\n",
       "      <th>...</th>\n",
       "      <td>...</td>\n",
       "      <td>...</td>\n",
       "      <td>...</td>\n",
       "      <td>...</td>\n",
       "      <td>...</td>\n",
       "      <td>...</td>\n",
       "      <td>...</td>\n",
       "      <td>...</td>\n",
       "      <td>...</td>\n",
       "      <td>...</td>\n",
       "      <td>...</td>\n",
       "      <td>...</td>\n",
       "      <td>...</td>\n",
       "      <td>...</td>\n",
       "      <td>...</td>\n",
       "      <td>...</td>\n",
       "      <td>...</td>\n",
       "      <td>...</td>\n",
       "    </tr>\n",
       "    <tr>\n",
       "      <th>255342</th>\n",
       "      <td>False</td>\n",
       "      <td>False</td>\n",
       "      <td>False</td>\n",
       "      <td>False</td>\n",
       "      <td>False</td>\n",
       "      <td>False</td>\n",
       "      <td>False</td>\n",
       "      <td>False</td>\n",
       "      <td>False</td>\n",
       "      <td>False</td>\n",
       "      <td>False</td>\n",
       "      <td>False</td>\n",
       "      <td>False</td>\n",
       "      <td>False</td>\n",
       "      <td>False</td>\n",
       "      <td>False</td>\n",
       "      <td>False</td>\n",
       "      <td>False</td>\n",
       "    </tr>\n",
       "    <tr>\n",
       "      <th>255343</th>\n",
       "      <td>False</td>\n",
       "      <td>False</td>\n",
       "      <td>False</td>\n",
       "      <td>False</td>\n",
       "      <td>False</td>\n",
       "      <td>False</td>\n",
       "      <td>False</td>\n",
       "      <td>False</td>\n",
       "      <td>False</td>\n",
       "      <td>False</td>\n",
       "      <td>False</td>\n",
       "      <td>False</td>\n",
       "      <td>False</td>\n",
       "      <td>False</td>\n",
       "      <td>False</td>\n",
       "      <td>False</td>\n",
       "      <td>False</td>\n",
       "      <td>False</td>\n",
       "    </tr>\n",
       "    <tr>\n",
       "      <th>255344</th>\n",
       "      <td>False</td>\n",
       "      <td>False</td>\n",
       "      <td>False</td>\n",
       "      <td>False</td>\n",
       "      <td>False</td>\n",
       "      <td>False</td>\n",
       "      <td>False</td>\n",
       "      <td>False</td>\n",
       "      <td>False</td>\n",
       "      <td>False</td>\n",
       "      <td>False</td>\n",
       "      <td>False</td>\n",
       "      <td>False</td>\n",
       "      <td>False</td>\n",
       "      <td>False</td>\n",
       "      <td>False</td>\n",
       "      <td>False</td>\n",
       "      <td>False</td>\n",
       "    </tr>\n",
       "    <tr>\n",
       "      <th>255345</th>\n",
       "      <td>False</td>\n",
       "      <td>False</td>\n",
       "      <td>False</td>\n",
       "      <td>False</td>\n",
       "      <td>False</td>\n",
       "      <td>False</td>\n",
       "      <td>False</td>\n",
       "      <td>False</td>\n",
       "      <td>False</td>\n",
       "      <td>False</td>\n",
       "      <td>False</td>\n",
       "      <td>False</td>\n",
       "      <td>False</td>\n",
       "      <td>False</td>\n",
       "      <td>False</td>\n",
       "      <td>False</td>\n",
       "      <td>False</td>\n",
       "      <td>False</td>\n",
       "    </tr>\n",
       "    <tr>\n",
       "      <th>255346</th>\n",
       "      <td>False</td>\n",
       "      <td>False</td>\n",
       "      <td>False</td>\n",
       "      <td>False</td>\n",
       "      <td>False</td>\n",
       "      <td>False</td>\n",
       "      <td>False</td>\n",
       "      <td>False</td>\n",
       "      <td>False</td>\n",
       "      <td>False</td>\n",
       "      <td>False</td>\n",
       "      <td>False</td>\n",
       "      <td>False</td>\n",
       "      <td>False</td>\n",
       "      <td>False</td>\n",
       "      <td>False</td>\n",
       "      <td>False</td>\n",
       "      <td>False</td>\n",
       "    </tr>\n",
       "  </tbody>\n",
       "</table>\n",
       "<p>255347 rows × 18 columns</p>\n",
       "</div>"
      ],
      "text/plain": [
       "        LoanID    Age  Income  LoanAmount  CreditScore  MonthsEmployed  \\\n",
       "0        False  False   False       False        False           False   \n",
       "1        False  False   False       False        False           False   \n",
       "2        False  False   False       False        False           False   \n",
       "3        False  False   False       False        False           False   \n",
       "4        False  False   False       False        False           False   \n",
       "...        ...    ...     ...         ...          ...             ...   \n",
       "255342   False  False   False       False        False           False   \n",
       "255343   False  False   False       False        False           False   \n",
       "255344   False  False   False       False        False           False   \n",
       "255345   False  False   False       False        False           False   \n",
       "255346   False  False   False       False        False           False   \n",
       "\n",
       "        NumCreditLines  InterestRate  LoanTerm  DTIRatio  Education  \\\n",
       "0                False         False     False     False      False   \n",
       "1                False         False     False     False      False   \n",
       "2                False         False     False     False      False   \n",
       "3                False         False     False     False      False   \n",
       "4                False         False     False     False      False   \n",
       "...                ...           ...       ...       ...        ...   \n",
       "255342           False         False     False     False      False   \n",
       "255343           False         False     False     False      False   \n",
       "255344           False         False     False     False      False   \n",
       "255345           False         False     False     False      False   \n",
       "255346           False         False     False     False      False   \n",
       "\n",
       "        EmploymentType  MaritalStatus  HasMortgage  HasDependents  \\\n",
       "0                False          False        False          False   \n",
       "1                False          False        False          False   \n",
       "2                False          False        False          False   \n",
       "3                False          False        False          False   \n",
       "4                False          False        False          False   \n",
       "...                ...            ...          ...            ...   \n",
       "255342           False          False        False          False   \n",
       "255343           False          False        False          False   \n",
       "255344           False          False        False          False   \n",
       "255345           False          False        False          False   \n",
       "255346           False          False        False          False   \n",
       "\n",
       "        LoanPurpose  HasCoSigner  Default  \n",
       "0             False        False    False  \n",
       "1             False        False    False  \n",
       "2             False        False    False  \n",
       "3             False        False    False  \n",
       "4             False        False    False  \n",
       "...             ...          ...      ...  \n",
       "255342        False        False    False  \n",
       "255343        False        False    False  \n",
       "255344        False        False    False  \n",
       "255345        False        False    False  \n",
       "255346        False        False    False  \n",
       "\n",
       "[255347 rows x 18 columns]"
      ]
     },
     "execution_count": 9,
     "metadata": {},
     "output_type": "execute_result"
    }
   ],
   "source": [
    "loan.isnull()"
   ]
  },
  {
   "cell_type": "code",
   "execution_count": 10,
   "metadata": {},
   "outputs": [
    {
     "name": "stdout",
     "output_type": "stream",
     "text": [
      "x_train: (191510, 16)\n",
      "y_train: (191510,)\n",
      "x_test: (63837, 16)\n",
      "y_test: (63837,)\n"
     ]
    }
   ],
   "source": [
    "# Split Dataset into train and test dataset\n",
    "from sklearn.model_selection import train_test_split\n",
    "x_train,x_test,y_train,y_test = train_test_split(loan.drop(columns=['LoanID','Default']),loan['Default'], test_size=0.25,random_state=42)\n",
    "\n",
    "print('x_train:',x_train.shape)\n",
    "print('y_train:',y_train.shape)\n",
    "print('x_test:',x_test.shape)\n",
    "print('y_test:',y_test.shape)"
   ]
  },
  {
   "cell_type": "markdown",
   "metadata": {},
   "source": [
    "## ML models - Ensemble methods\n",
    "\n",
    "> #### Ensemble methods\n",
    "     Bagging\n",
    "     Boosting\n",
    "     Stacking\n",
    "     Voting"
   ]
  },
  {
   "cell_type": "code",
   "execution_count": 11,
   "metadata": {},
   "outputs": [],
   "source": [
    "from sklearn.ensemble import  BaggingClassifier, GradientBoostingClassifier,RandomForestClassifier, StackingClassifier\n",
    "from sklearn.linear_model import LogisticRegression\n",
    "from sklearn.tree import DecisionTreeClassifier\n",
    "from sklearn.svm import SVC\n",
    "from sklearn.metrics import accuracy_score"
   ]
  },
  {
   "cell_type": "markdown",
   "metadata": {},
   "source": [
    "### Bagging Method"
   ]
  },
  {
   "cell_type": "code",
   "execution_count": 12,
   "metadata": {},
   "outputs": [
    {
     "name": "stdout",
     "output_type": "stream",
     "text": [
      "Bagging accuracy: 0.8849100051694159\n"
     ]
    }
   ],
   "source": [
    "# Create a base classifier (e.g., DecisionTreeClassifier):\n",
    "base_clf = DecisionTreeClassifier()\n",
    "\n",
    "# Create the bagging classifier:\n",
    "bagging_clf = BaggingClassifier(base_estimator=base_clf, n_estimators=100, random_state=42)\n",
    "\n",
    "# Train and evaluate (similar to Voting):\n",
    "bagging_clf.fit(x_train, y_train)\n",
    "y_pred = bagging_clf.predict(x_test)\n",
    "bagging_accuracy = accuracy_score(y_test, y_pred)\n",
    "print(\"Bagging accuracy:\", bagging_accuracy)\n"
   ]
  },
  {
   "cell_type": "markdown",
   "metadata": {},
   "source": [
    "### Boosting method"
   ]
  },
  {
   "cell_type": "code",
   "execution_count": 13,
   "metadata": {},
   "outputs": [
    {
     "name": "stdout",
     "output_type": "stream",
     "text": [
      "Boosting accuracy: 0.8865704842019518\n"
     ]
    }
   ],
   "source": [
    "gb_clf = GradientBoostingClassifier(n_estimators=100, learning_rate=0.1, random_state=42)\n",
    "gb_clf.fit(x_train, y_train)\n",
    "y_pred = gb_clf.predict(x_test)\n",
    "boosting_accuracy = accuracy_score(y_test, y_pred)\n",
    "print(\"Boosting accuracy:\", boosting_accuracy)\n"
   ]
  },
  {
   "cell_type": "markdown",
   "metadata": {},
   "source": [
    "### stacking Method"
   ]
  },
  {
   "cell_type": "code",
   "execution_count": 14,
   "metadata": {},
   "outputs": [
    {
     "name": "stdout",
     "output_type": "stream",
     "text": [
      "Accuracy of Stacking Classifier: 0.8861162022024844\n"
     ]
    }
   ],
   "source": [
    "# Define the base models\n",
    "base_models = [\n",
    "    ('rf', RandomForestClassifier(n_estimators=100, random_state=42)),\n",
    "    ('gb', GradientBoostingClassifier(n_estimators=100, learning_rate=0.1, random_state=42))\n",
    "]\n",
    "\n",
    "# Define the meta-model\n",
    "meta_model = LogisticRegression()\n",
    "\n",
    "# Create the stacking classifier\n",
    "stacking_classifier = StackingClassifier(estimators=base_models, final_estimator=meta_model)\n",
    "\n",
    "# Train the stacking classifier on the training data\n",
    "stacking_classifier.fit(x_train, y_train)\n",
    "\n",
    "# Make predictions on the test set\n",
    "stacking_predictions = stacking_classifier.predict(x_test)\n",
    "\n",
    "# Evaluate the performance\n",
    "stack_accuracy = accuracy_score(y_test, stacking_predictions)\n",
    "print(f'Accuracy of Stacking Classifier: {stack_accuracy}')"
   ]
  },
  {
   "cell_type": "markdown",
   "metadata": {},
   "source": [
    "## Tree based Learning Methods"
   ]
  },
  {
   "cell_type": "markdown",
   "metadata": {},
   "source": [
    "### Random Forest:"
   ]
  },
  {
   "cell_type": "code",
   "execution_count": 15,
   "metadata": {},
   "outputs": [
    {
     "name": "stdout",
     "output_type": "stream",
     "text": [
      "Random Forest accuracy: 0.885661920203017\n"
     ]
    }
   ],
   "source": [
    "\n",
    "\n",
    "rf_clf = RandomForestClassifier(n_estimators=100,  random_state=42)\n",
    "\n",
    "# Train and evaluate:\n",
    "rf_clf.fit(x_train, y_train)\n",
    "y_pred = rf_clf.predict(x_test)\n",
    "random_accuracy = accuracy_score(y_test, y_pred)\n",
    "print(\"Random Forest accuracy:\", random_accuracy)\n",
    "\n",
    "\n"
   ]
  },
  {
   "cell_type": "markdown",
   "metadata": {},
   "source": [
    "###  Decision Tree:"
   ]
  },
  {
   "cell_type": "code",
   "execution_count": 16,
   "metadata": {},
   "outputs": [
    {
     "name": "stdout",
     "output_type": "stream",
     "text": [
      "Decision Tree accuracy: 0.8033742187132854\n"
     ]
    }
   ],
   "source": [
    "\n",
    "dt_clf = DecisionTreeClassifier(random_state=42)\n",
    "\n",
    "# Train and evaluate:\n",
    "dt_clf.fit(x_train, y_train)\n",
    "y_pred = dt_clf.predict(x_test)\n",
    "dt_accuracy = accuracy_score(y_test, y_pred)\n",
    "print(\"Decision Tree accuracy:\", dt_accuracy)\n",
    "\n",
    "\n"
   ]
  },
  {
   "cell_type": "code",
   "execution_count": 45,
   "metadata": {},
   "outputs": [
    {
     "data": {
      "image/png": "[encoded data removed]",
      "text/plain": [
       "<Figure size 1152x648 with 1 Axes>"
      ]
     },
     "metadata": {
      "needs_background": "light"
     },
     "output_type": "display_data"
    }
   ],
   "source": [
    "import matplotlib.pyplot as plt\n",
    "\n",
    "# Accuracy scores for different models\n",
    "accuracies = {\n",
    "    \"Decision Tree\": dt_accuracy,\n",
    "    \"Random Forest\": random_accuracy,\n",
    "    \"Stacking\": stack_accuracy,\n",
    "    \"Boosting\": boosting_accuracy,\n",
    "    \"Bagging\": bagging_accuracy\n",
    "}\n",
    "\n",
    "\n",
    "accuracies = dict(sorted(accuracies.items(), key=lambda item: item[1], reverse=True))\n",
    "\n",
    "# Create the bar chart\n",
    "plt.figure(figsize=(16, 9))  # Adjust figure size as needed\n",
    "\n",
    "colors = ['lightblue' if model != 'Boosting' else 'orange' for model in accuracies.keys()]\n",
    "plt.bar(accuracies.keys(), accuracies.values(), color=colors)\n",
    "# Customize chart elements\n",
    "plt.xlabel(\"Model Type\", fontsize=14)\n",
    "plt.ylabel(\"Accuracy\", fontsize=14)\n",
    "plt.title(\"Accuracy Comparison of Different Models\", fontsize=18)\n",
    "plt.xticks(rotation=45, ha='right')  # Rotate x-axis labels for better readability\n",
    "plt.ylim(0, 1.1)  # Set y-axis limits for precision\n",
    "\n",
    "plt.grid(axis='y', linestyle='--', alpha=0.8)  # Add grid lines\n",
    "\n",
    "# Annotate each bar with 8 decimal places\n",
    "for i, v in enumerate(accuracies.values()):\n",
    "    plt.text(i, v + 0.005, f\"{v:.4f}\")  # Format with 8 decimals\n",
    "\n",
    "plt.tight_layout()  # Adjust layout for better spacing\n",
    "plt.show()\n"
   ]
  },
  {
   "cell_type": "markdown",
   "metadata": {},
   "source": [
    "## voting classifier"
   ]
  },
  {
   "cell_type": "code",
   "execution_count": 28,
   "metadata": {},
   "outputs": [
    {
     "name": "stdout",
     "output_type": "stream",
     "text": [
      "Ensemble Model Accuracy: 0.8860848724094177\n"
     ]
    },
    {
     "data": {
      "image/png": "[encoded data removed]",
      "text/plain": [
       "<Figure size 432x288 with 1 Axes>"
      ]
     },
     "metadata": {
      "needs_background": "light"
     },
     "output_type": "display_data"
    }
   ],
   "source": [
    "\n",
    "from sklearn.ensemble import VotingClassifier\n",
    "\n",
    "# Create a list of tuples with (model_name, model_instance)\n",
    "models = [ ( \"Decision Tree\", dt_clf), (\"Random Forest\",rf_clf), ( \"Stacking\", stacking_classifier), \n",
    "          (\"Boosting\", gb_clf),(\"Bagging\", bagging_clf)]\n",
    "\n",
    "# Create a Voting Classifier\n",
    "voting_classifier = VotingClassifier(estimators=models, voting='hard')  # 'hard' for majority voting\n",
    "\n",
    "\n",
    "# Fit the Voting Classifier on the training data\n",
    "voting_classifier.fit(x_train, y_train)\n",
    "\n",
    "# Predictions\n",
    "predictions = voting_classifier.predict(x_test)\n",
    "\n",
    "# Calculate and print accuracy\n",
    "accuracy = accuracy_score(y_test, predictions)\n",
    "print(f'Ensemble Model Accuracy: {accuracy}')\n",
    "\n",
    "\n"
   ]
  },
  {
   "cell_type": "code",
   "execution_count": 34,
   "metadata": {},
   "outputs": [
    {
     "name": "stdout",
     "output_type": "stream",
     "text": [
      "Ensemble Model Accuracy: 0.8860848724094177\n"
     ]
    }
   ],
   "source": [
    "# Create the bar chart\n",
    "# Calculate and print accuracy\n",
    "accuracy_ensemble = accuracy_score(y_test, predictions)\n",
    "print(f'Ensemble Model Accuracy: {accuracy}')"
   ]
  },
  {
   "cell_type": "code",
   "execution_count": 41,
   "metadata": {},
   "outputs": [
    {
     "data": {
      "image/png": "[encoded data removed]",
      "text/plain": [
       "<Figure size 1152x648 with 1 Axes>"
      ]
     },
     "metadata": {
      "needs_background": "light"
     },
     "output_type": "display_data"
    }
   ],
   "source": [
    "import matplotlib.pyplot as plt\n",
    "\n",
    "# Accuracy scores for different models\n",
    "accuracies = {\n",
    "    \"Decision Tree\": dt_accuracy,\n",
    "    \"Random Forest\": random_accuracy,\n",
    "    \"Stacking\": stack_accuracy,\n",
    "    \"Boosting\": boosting_accuracy,\n",
    "    \"Bagging\": bagging_accuracy,\n",
    "    \"Voting\":accuracy_ensemble  # Add accuracy for the ensemble model\n",
    "}\n",
    "\n",
    "# Sort the accuracies dictionary by values in descending order\n",
    "accuracies = dict(sorted(accuracies.items(), key=lambda item: item[1], reverse=True))\n",
    "\n",
    "# Create the bar chart\n",
    "plt.figure(figsize=(16, 9))  # Adjust figure size as needed\n",
    "\n",
    "# Define colors for each bar\n",
    "colors = ['lightblue' if model != 'Voting' else 'red' for model in accuracies.keys()]\n",
    "\n",
    "# Plot the bars\n",
    "plt.bar(accuracies.keys(), accuracies.values(), color=colors)\n",
    "\n",
    "# Customize chart elements\n",
    "plt.xlabel(\"Model Type\", fontsize=14)\n",
    "plt.ylabel(\"Accuracy\", fontsize=14)\n",
    "plt.title(\"Accuracy Comparison of Different Models\", fontsize=18)\n",
    "plt.xticks(rotation=45, ha='right')  # Rotate x-axis labels for better readability\n",
    "plt.ylim(0, 1.1)  # Set y-axis limits for precision\n",
    "\n",
    "plt.grid(axis='y', linestyle='--', alpha=0.8)  # Add grid lines\n",
    "\n",
    "# Annotate each bar with 8 decimal places\n",
    "for i, v in enumerate(accuracies.values()):\n",
    "    plt.text(i, v + 0.005, f\"{v:.4f}\")  # Format with 8 decimals\n",
    "\n",
    "plt.tight_layout()  # Adjust layout for better spacing\n",
    "plt.show()\n"
   ]
  },
  {
   "cell_type": "code",
   "execution_count": null,
   "metadata": {},
   "outputs": [],
   "source": []
  }
 ],
 "metadata": {
  "kernelspec": {
   "display_name": "base",
   "language": "python",
   "name": "python3"
  },
  "language_info": {
   "codemirror_mode": {
    "name": "ipython",
    "version": 3
   },
   "file_extension": ".py",
   "mimetype": "text/x-python",
   "name": "python",
   "nbconvert_exporter": "python",
   "pygments_lexer": "ipython3",
   "version": "3.9.7"
  }
 },
 "nbformat": 4,
 "nbformat_minor": 2
}
